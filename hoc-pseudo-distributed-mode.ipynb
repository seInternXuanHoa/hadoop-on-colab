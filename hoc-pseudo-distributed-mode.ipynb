{
  "cells": [
    {
      "cell_type": "markdown",
      "metadata": {
        "id": "bU_atEpwgg8O"
      },
      "source": [
        "# Pseudo Distributed Mode"
      ]
    },
    {
      "cell_type": "code",
      "execution_count": null,
      "metadata": {
        "id": "_e1F7XfNODmz"
      },
      "outputs": [],
      "source": [
        "import os\n",
        "\n",
        "# Install Java SE 8:\n",
        "!apt-get install openjdk-8-jdk-headless -qq > /dev/null\n",
        "!update-alternatives --config java\n",
        "!update-alternatives --config javac\n",
        "!update-alternatives --config jps\n",
        "\n",
        "# Configure Java Path:\n",
        "os.environ[\"JAVA_HOME\"] = \"/usr/lib/jvm/java-8-openjdk-amd64\"\n",
        "os.environ[\"JRE_HOME\"] = \"/usr/lib/jvm/java-8-openjdk-amd64/jre\"\n",
        "os.environ[\"PATH\"] += \":$JAVA_HOME/bin:$JRE_HOME/bin:$HADOOP_HOME/bin:$HADOOP_HOME/sbin\"\n",
        "\n",
        "# Installing Secure Shell Server:\n",
        "!apt-get purge openssh-server -qq\n",
        "!apt-get install openssh-server -qq > /dev/null\n",
        "!service ssh start\n",
        "\n",
        "# Connect To Localhost:\n",
        "!ssh-keygen -t rsa -P \"\" -f ~/.ssh/id_rsa\n",
        "!more /root/.ssh/id_rsa.pub\n",
        "!cat $HOME/.ssh/id_rsa.pub >> $HOME/.ssh/authorized_keys\n",
        "!chmod 0600 ~/.ssh/authorized_keys\n",
        "!ssh -o StrictHostKeyChecking=no localhost uptime\n",
        "\n",
        "# Install Apache Hadoop:\n",
        "!wget -q https://archive.apache.org/dist/hadoop/common/hadoop-3.2.3/hadoop-3.2.3.tar.gz\n",
        "!sudo tar -xzf hadoop-3.2.3.tar.gz\n",
        "!cp -r hadoop-3.2.3/ /usr/local/\n",
        "\n",
        "# Configure Hadoop Path:\n",
        "os.environ[\"HADOOP_HOME\"] = \"/usr/local/hadoop-3.2.3\"\n",
        "os.environ[\"HDFS_NAMENODE_USER\"] = \"root\"\n",
        "os.environ[\"HDFS_DATANODE_USER\"] = \"root\"\n",
        "os.environ[\"HDFS_SECONDARYNAMENODE_USER\"] = \"root\"\n",
        "os.environ[\"YARN_RESOURCEMANAGER_USER\"] = \"root\"\n",
        "os.environ[\"YARN_NODEMANAGER_USER\"] = \"root\"\n",
        "\n",
        "# Configure Hadoop:\n",
        "# Hadoop Env:\n",
        "!sed -i '/export JAVA_HOME=/a export JAVA_HOME=\\/usr\\/lib\\/jvm\\/java-8-openjdk-amd64' /usr/local/hadoop-3.2.3/etc/hadoop/hadoop-env.sh\n",
        "# Core Site:\n",
        "!sed -i '/<configuration>/a\\\n",
        "  <property>\\n\\\n",
        "    <name>fs.defaultFS</name>\\n\\\n",
        "    <value>hdfs://localhost:9000</value>\\n\\\n",
        "  </property>' \\\n",
        "$HADOOP_HOME/etc/hadoop/core-site.xml\n",
        "# HDFS Site:\n",
        "!sed -i '/<configuration>/a\\\n",
        "  <property>\\n\\\n",
        "    <name>dfs.replication</name>\\n\\\n",
        "    <value>1</value>\\n\\\n",
        "  </property>' \\\n",
        "$HADOOP_HOME/etc/hadoop/hdfs-site.xml\n",
        "# Mapred Site:\n",
        "!sed -i '/<configuration>/a\\\n",
        "  <property>\\n\\\n",
        "    <name>mapreduce.framework.name</name>\\n\\\n",
        "    <value>yarn</value>\\n\\\n",
        "  </property>\\n\\\n",
        "  <property>\\n\\\n",
        "    <name>mapreduce.application.classpath</name>\\n\\\n",
        "    <value>$HADOOP_MAPRED_HOME/share/hadoop/mapreduce/*:$HADOOP_MAPRED_HOME/share/hadoop/mapreduce/lib/*</value>\\n\\\n",
        "  </property>' \\\n",
        "$HADOOP_HOME/etc/hadoop/mapred-site.xml\n",
        "# Yarn Site:\n",
        "!sed -i '/<configuration>/a\\\n",
        "  <property>\\n\\\n",
        "    <description>The hostname of the RM.</description>\\n\\\n",
        "    <name>yarn.resourcemanager.hostname</name>\\n\\\n",
        "    <value>localhost</value>\\n\\\n",
        "  </property>\\n\\\n",
        "  <property>\\n\\\n",
        "    <name>yarn.nodemanager.aux-services</name>\\n\\\n",
        "    <value>mapreduce_shuffle</value>\\n\\\n",
        "  </property>\\n\\\n",
        "  <property>\\n\\\n",
        "    <name>yarn.nodemanager.env-whitelist</name>\\n\\\n",
        "    <value>JAVA_HOME,HADOOP_COMMON_HOME,HADOOP_HDFS_HOME,HADOOP_CONF_DIR,CLASSPATH_PREPEND_DISTCACHE,HADOOP_YARN_HOME,HADOOP_HOME,PATH,LANG,TZ,HADOOP_MAPRED_HOME</value>\\n\\\n",
        "  </property>' \\\n",
        "$HADOOP_HOME/etc/hadoop/yarn-site.xml\n",
        "\n",
        "# Format NameNode:\n",
        "!$HADOOP_HOME/bin/hdfs namenode -format\n",
        "\n",
        "# Cleanup:\n",
        "!rm hadoop-3.2.3.tar.gz\n",
        "!rm -rf hadoop-3.2.3\n",
        "\n",
        "# Monitoring Hadoop Cluster With Browser Interface:\n",
        "from google.colab import output\n",
        "output.serve_kernel_port_as_window(9870)\n",
        "\n",
        "# Start HDFS:\n",
        "!$HADOOP_HOME/sbin/start-dfs.sh\n",
        "\n",
        "# Start YARN:\n",
        "!nohup $HADOOP_HOME/sbin/start-yarn.sh"
      ]
    },
    {
      "cell_type": "code",
      "execution_count": null,
      "metadata": {
        "id": "1Owhn7IjaVkW"
      },
      "outputs": [],
      "source": [
        "# Word Count Example (Pseudo Distributed Mode):\n",
        "!wget -q https://www.mirrorservice.org/sites/ftp.ibiblio.org/pub/docs/books/gutenberg/1/0/101/101.txt\n",
        "!$HADOOP_HOME/bin/hdfs dfs -mkdir /word_count\n",
        "!$HADOOP_HOME/bin/hdfs dfs -put /content/101.txt /word_count\n",
        "!$HADOOP_HOME/bin/hadoop jar $HADOOP_HOME/share/hadoop/mapreduce/hadoop-mapreduce-examples-3.2.3.jar wordcount /word_count/101.txt /word_count/output/\n",
        "!$HADOOP_HOME/bin/hdfs dfs -cat /word_count/output/part-r-00000 | head -50"
      ]
    },
    {
      "cell_type": "code",
      "execution_count": null,
      "metadata": {
        "id": "j_xtqas0eW48"
      },
      "outputs": [],
      "source": [
        "# Get System Report:\n",
        "!$HADOOP_HOME/bin/hdfs dfsadmin -report"
      ]
    },
    {
      "cell_type": "code",
      "execution_count": null,
      "metadata": {
        "id": "4v0nQAUaeVxB"
      },
      "outputs": [],
      "source": [
        "# Read More: https://colab.research.google.com/github/LMAPcoder/Hadoop-on-Colab/blob/main/Hadoop_on_Colab.ipynb#scrollTo=j7iQ3JIqP9Av"
      ]
    }
  ],
  "metadata": {
    "colab": {
      "collapsed_sections": [],
      "name": "hadoop.ipynb",
      "provenance": []
    },
    "kernelspec": {
      "display_name": "Python 3",
      "name": "python3"
    },
    "language_info": {
      "name": "python"
    }
  },
  "nbformat": 4,
  "nbformat_minor": 0
}
