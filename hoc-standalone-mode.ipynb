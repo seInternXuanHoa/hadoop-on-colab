{
  "cells": [
    {
      "cell_type": "markdown",
      "metadata": {
        "id": "BKkbF0njgFfG"
      },
      "source": [
        "# Standalone Mode"
      ]
    },
    {
      "cell_type": "code",
      "execution_count": null,
      "metadata": {
        "id": "5g6w6fCQgba4"
      },
      "outputs": [],
      "source": [
        "import os\n",
        "\n",
        "# Install Java SE 8:\n",
        "!apt-get install openjdk-8-jdk-headless -qq > /dev/null\n",
        "!update-alternatives --config java\n",
        "!update-alternatives --config javac\n",
        "!update-alternatives --config jps\n",
        "\n",
        "# Configure Java Path:\n",
        "os.environ[\"JAVA_HOME\"] = \"/usr/lib/jvm/java-8-openjdk-amd64\"\n",
        "os.environ[\"JRE_HOME\"] = \"/usr/lib/jvm/java-8-openjdk-amd64/jre\"\n",
        "os.environ[\"PATH\"] += \":$JAVA_HOME/bin:$JRE_HOME/bin:$HADOOP_HOME/bin:$HADOOP_HOME/sbin\"\n",
        "\n",
        "# Install Apache Hadoop:\n",
        "!wget -q https://archive.apache.org/dist/hadoop/common/hadoop-3.2.3/hadoop-3.2.3.tar.gz\n",
        "!sudo tar -xzf hadoop-3.2.3.tar.gz\n",
        "!cp -r hadoop-3.2.3/ /usr/local/\n",
        "\n",
        "# Configure Hadoop Path:\n",
        "os.environ[\"HADOOP_HOME\"] = \"/usr/local/hadoop-3.2.3\"\n",
        "\n",
        "# Configure Hadoop:\n",
        "# Hadoop Env:\n",
        "!sed -i '/export JAVA_HOME=/a export JAVA_HOME=\\/usr\\/lib\\/jvm\\/java-8-openjdk-amd64' /usr/local/hadoop-3.2.3/etc/hadoop/hadoop-env.sh\n",
        "\n",
        "# Format NameNode:\n",
        "!$HADOOP_HOME/bin/hdfs namenode -format\n",
        "\n",
        "# Cleanup:\n",
        "!rm hadoop-3.2.3.tar.gz\n",
        "!rm -rf hadoop-3.2.3"
      ]
    },
    {
      "cell_type": "code",
      "execution_count": null,
      "metadata": {
        "id": "3S1WaFFSgd3V"
      },
      "outputs": [],
      "source": [
        "# Word Count Example (Standalone Mode):\n",
        "!wget -q https://www.mirrorservice.org/sites/ftp.ibiblio.org/pub/docs/books/gutenberg/1/0/101/101.txt\n",
        "!$HADOOP_HOME/bin/hadoop jar $HADOOP_HOME/share/hadoop/mapreduce/hadoop-mapreduce-examples-3.2.3.jar wordcount /content/101.txt /content/output\n",
        "!head -50 /content/output/part-r-00000"
      ]
    },
    {
      "cell_type": "code",
      "execution_count": null,
      "metadata": {
        "id": "567AmwTYhfcx"
      },
      "outputs": [],
      "source": [
        "# Read More: https://colab.research.google.com/github/LMAPcoder/Hadoop-on-Colab/blob/main/Hadoop_on_Colab.ipynb#scrollTo=j7iQ3JIqP9Av"
      ]
    }
  ],
  "metadata": {
    "colab": {
      "collapsed_sections": [],
      "name": "hadoop.ipynb",
      "provenance": []
    },
    "kernelspec": {
      "display_name": "Python 3",
      "name": "python3"
    },
    "language_info": {
      "name": "python"
    }
  },
  "nbformat": 4,
  "nbformat_minor": 0
}
